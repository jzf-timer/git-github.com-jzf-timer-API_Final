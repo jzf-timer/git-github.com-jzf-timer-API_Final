{
 "cells": [
  {
   "cell_type": "markdown",
   "metadata": {},
   "source": [
    "## 百度文本纠错"
   ]
  },
  {
   "cell_type": "code",
   "execution_count": 4,
   "metadata": {},
   "outputs": [
    {
     "data": {
      "text/plain": [
       "{'log_id': 1497999178085241878,\n",
       " 'item': {'vec_fragment': [{'ori_frag': '冲电的',\n",
       "    'begin_pos': 46,\n",
       "    'correct_frag': '充电的',\n",
       "    'end_pos': 52},\n",
       "   {'ori_frag': '在那里', 'begin_pos': 66, 'correct_frag': '在哪里', 'end_pos': 72}],\n",
       "  'score': 0.978199,\n",
       "  'correct_query': '我们每天的生活都离不开手机了，但是每天晚上手机充电的时候，你的手机在哪里呢？'},\n",
       " 'text': '我们每天的生活都离不开手机了，但是每天晚上手机冲电的时候，你的手机在那里呢？'}"
      ]
     },
     "execution_count": 4,
     "metadata": {},
     "output_type": "execute_result"
    }
   ],
   "source": [
    "from aip import AipFace,AipBodyAnalysis\n",
    "from IPython.display import Image\n",
    "from IPython.core.display import HTML \n",
    "from aip import AipNlp\n",
    "\"\"\" 你的 APPID AK SK \"\"\"\n",
    "APP_ID = '17992182'\n",
    "API_KEY = 'UMSzeSDll1GBfnVFR58if4ID'\n",
    "SECRET_KEY = 'V0UDaH04WMYwZiSTjBdFdwlSXOZFyV0k'\n",
    "client = AipNlp(APP_ID, API_KEY, SECRET_KEY)\n",
    "\n",
    "text = \"我们每天的生活都离不开手机了，但是每天晚上手机冲电的时候，你的手机在那里呢？\"\n",
    "\n",
    "client.ecnet(text)"
   ]
  },
  {
   "cell_type": "code",
   "execution_count": null,
   "metadata": {},
   "outputs": [],
   "source": []
  }
 ],
 "metadata": {
  "kernelspec": {
   "display_name": "Python 3",
   "language": "python",
   "name": "python3"
  },
  "language_info": {
   "codemirror_mode": {
    "name": "ipython",
    "version": 3
   },
   "file_extension": ".py",
   "mimetype": "text/x-python",
   "name": "python",
   "nbconvert_exporter": "python",
   "pygments_lexer": "ipython3",
   "version": "3.7.4"
  }
 },
 "nbformat": 4,
 "nbformat_minor": 2
}
