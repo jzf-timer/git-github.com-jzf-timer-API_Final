{
 "cells": [
  {
   "cell_type": "markdown",
   "metadata": {},
   "source": [
    "## 讯飞手写体识别"
   ]
  },
  {
   "cell_type": "code",
   "execution_count": 3,
   "metadata": {},
   "outputs": [
    {
     "name": "stdout",
     "output_type": "stream",
     "text": [
      "b'{\"code\":\"0\",\"data\":{\"block\":[{\"type\":\"text\",\"line\":[{\"confidence\":1,\"location\":{\"top_left\":{\"x\":20,\"y\":966},\"right_bottom\":{\"x\":340,\"y\":78}},\"word\":[{\"content\":\"T\"},{\"content\":\"F\"},{\"content\":\"S\"},{\"content\":\"1\"},{\"content\":\"0\"},{\"content\":\"5\"}]},{\"confidence\":1,\"location\":{\"top_left\":{\"x\":1331,\"y\":573},\"right_bottom\":{\"x\":2342,\"y\":852}},\"word\":[{\"content\":\"\\xe5\\x86\\x99\\xe5\\xad\\x97\\xe4\\xbd\\x93\\xe8\\xaf\\x86\\xe5\\x88\\xab\"}]},{\"confidence\":1,\"location\":{\"top_left\":{\"x\":913,\"y\":1379},\"right_bottom\":{\"x\":1190,\"y\":568}},\"word\":[{\"content\":\"\\xe6\\x88\\x91\"},{\"content\":\"4\"}]},{\"confidence\":1,\"location\":{\"top_left\":{\"x\":1423,\"y\":793},\"right_bottom\":{\"x\":1166,\"y\":1294}},\"word\":[{\"content\":\"2012\"}]},{\"confidence\":1,\"location\":{\"top_left\":{\"x\":1452,\"y\":978},\"right_bottom\":{\"x\":3406,\"y\":1180}},\"word\":[{\"content\":\"\\xe6\\x83\\xb3\\xe7\\x86\\xac\\xe5\\xa4\\x9c\\xe2\\x80\\x94\\xe2\\x80\\x94\\xe7\\xbd\\x91\\xe6\\x96\\xb0\\xe5\\xbf\\x85\\xe5\\xa4\\x87\"}]}]}]},\"desc\":\"success\",\"sid\":\"wcr0039152a@gz15fa115a76e9460e00\"}'\n"
     ]
    }
   ],
   "source": [
    "# -*- coding: utf-8 -*-\n",
    "from urllib import parse\n",
    "import base64\n",
    "import hashlib\n",
    "import time\n",
    "import requests\n",
    "\n",
    "# OCR手写文字识别接口地址\n",
    "URL = \"http://webapi.xfyun.cn/v1/service/v1/ocr/handwriting\"\n",
    "# 应用APPID(必须为webapi类型应用,并开通手写文字识别服务,参考帖子如何创建一个webapi应用：http://bbs.xfyun.cn/forum.php?mod=viewthread&tid=36481)\n",
    "APPID = \"5df5101f\"\n",
    "# 接口密钥(webapi类型应用开通手写文字识别后，控制台--我的应用---手写文字识别---相应服务的apikey)\n",
    "API_KEY = \"a67c06b86a36caba20bc938f58590421\"\n",
    "def getHeader():\n",
    "    curTime = str(int(time.time()))\n",
    "    param = \"{\\\"language\\\":\\\"\"+language+\"\\\",\\\"location\\\":\\\"\"+location+\"\\\"}\"\n",
    "    paramBase64 = base64.b64encode(param.encode('utf-8'))\n",
    "\n",
    "    m2 = hashlib.md5()\n",
    "    str1 = API_KEY + curTime + str(paramBase64, 'utf-8')\n",
    "    m2.update(str1.encode('utf-8'))\n",
    "    checkSum = m2.hexdigest()\n",
    "\t# 组装http请求头\n",
    "    header = {\n",
    "        'X-CurTime': curTime,\n",
    "        'X-Param': paramBase64,\n",
    "        'X-Appid': APPID,\n",
    "        'X-CheckSum': checkSum,\n",
    "        'Content-Type': 'application/x-www-form-urlencoded; charset=utf-8',\n",
    "    }\n",
    "    return header\n",
    "def getBody(filepath):\n",
    "    with open(filepath, 'rb') as f:\n",
    "        imgfile = f.read()\n",
    "    data = {'image': str(base64.b64encode(imgfile), 'utf-8')}\n",
    "    return data\n",
    "# 语种设置\n",
    "language = \"cn|en\"\n",
    "# 是否返回文本位置信息\n",
    "location = \"true\"\n",
    "# 图片上传接口地址\n",
    "picFilePath = \"ocr1.jpg\"\n",
    "# headers=getHeader(language, location)\n",
    "r = requests.post(URL, headers=getHeader(), data=getBody(picFilePath))\n",
    "print(r.content)\n"
   ]
  },
  {
   "cell_type": "markdown",
   "metadata": {},
   "source": [
    "### 返回不是中文，是中文编码，不便于使用"
   ]
  },
  {
   "cell_type": "code",
   "execution_count": 6,
   "metadata": {},
   "outputs": [
    {
     "name": "stdout",
     "output_type": "stream",
     "text": [
      "b'{\"code\":\"0\",\"data\":{\"block\":[{\"type\":\"text\",\"line\":[{\"confidence\":1,\"location\":{\"top_left\":{\"x\":31,\"y\":0},\"right_bottom\":{\"x\":465,\"y\":30}},\"word\":[{\"content\":\"The\"},{\"content\":\"terrible\"},{\"content\":\"earthquake\"},{\"content\":\"and\"},{\"content\":\"the\"},{\"content\":\"following\"},{\"content\":\"tsunami\"}]},{\"confidence\":1,\"location\":{\"top_left\":{\"x\":15,\"y\":24},\"right_bottom\":{\"x\":449,\"y\":54}},\"word\":[{\"content\":\"have\"},{\"content\":\"caused\"},{\"content\":\"so\"},{\"content\":\"many\"},{\"content\":\"people\\'s\"},{\"content\":\"injuries\"},{\"content\":\"and\"},{\"content\":\"deaths.\"}]},{\"confidence\":1,\"location\":{\"top_left\":{\"x\":15,\"y\":48},\"right_bottom\":{\"x\":481,\"y\":75}},\"word\":[{\"content\":\"Besides,\"},{\"content\":\"many\"},{\"content\":\"citizens\"},{\"content\":\"become\"},{\"content\":\"homeless.\"},{\"content\":\"We\"},{\"content\":\"chinese\"},{\"content\":\"feel\"}]},{\"confidence\":1,\"location\":{\"top_left\":{\"x\":15,\"y\":76},\"right_bottom\":{\"x\":465,\"y\":102}},\"word\":[{\"content\":\"greatly\"},{\"content\":\"sorry\"},{\"content\":\"for\"},{\"content\":\"the\"},{\"content\":\"pains\"},{\"content\":\"you\"},{\"content\":\"are\"},{\"content\":\"suffering.\"},{\"content\":\"And\"},{\"content\":\"I\"}]},{\"confidence\":1,\"location\":{\"top_left\":{\"x\":15,\"y\":102},\"right_bottom\":{\"x\":449,\"y\":125}},\"word\":[{\"content\":\"do\"},{\"content\":\"hope\"},{\"content\":\"you\"},{\"content\":\"can\"},{\"content\":\"overcome\"},{\"content\":\"those\"},{\"content\":\"great\"},{\"content\":\"difficulties.\"}]},{\"confidence\":1,\"location\":{\"top_left\":{\"x\":31,\"y\":123},\"right_bottom\":{\"x\":481,\"y\":150}},\"word\":[{\"content\":\"Please\"},{\"content\":\"remember\"},{\"content\":\"Japan\"},{\"content\":\"isn\\'t\"},{\"content\":\"alone.People\"},{\"content\":\"all\"},{\"content\":\"over\"},{\"content\":\"the\"}]},{\"confidence\":1,\"location\":{\"top_left\":{\"x\":15,\"y\":149},\"right_bottom\":{\"x\":481,\"y\":179}},\"word\":[{\"content\":\"world\"},{\"content\":\"are\"},{\"content\":\"lending\"},{\"content\":\"hands\"},{\"content\":\"to\"},{\"content\":\"the\"},{\"content\":\"areas\"},{\"content\":\"struck\"},{\"content\":\"by\"},{\"content\":\"tsunam\"}]},{\"confidence\":1,\"location\":{\"top_left\":{\"x\":15,\"y\":176},\"right_bottom\":{\"x\":466,\"y\":202}},\"word\":[{\"content\":\"and\"},{\"content\":\"earthquake.Now\"},{\"content\":\"that\"},{\"content\":\"the\"},{\"content\":\"disaster\"},{\"content\":\"has\"},{\"content\":\"happened\"}]},{\"confidence\":1,\"location\":{\"top_left\":{\"x\":15,\"y\":202},\"right_bottom\":{\"x\":481,\"y\":228}},\"word\":[{\"content\":\"we\"},{\"content\":\"should\"},{\"content\":\"face\"},{\"content\":\"it\"},{\"content\":\"bravely\"},{\"content\":\"and\"},{\"content\":\"rebuild\"},{\"content\":\"the\"},{\"content\":\"homes.\"},{\"content\":\"thus\"}]},{\"confidence\":1,\"location\":{\"top_left\":{\"x\":15,\"y\":227},\"right_bottom\":{\"x\":481,\"y\":259}},\"word\":[{\"content\":\"creating\"},{\"content\":\"a\"},{\"content\":\"stronger\"},{\"content\":\"country.\"},{\"content\":\"Tomorrow\"},{\"content\":\"is\"},{\"content\":\"another\"},{\"content\":\"day.\"}]},{\"confidence\":1,\"location\":{\"top_left\":{\"x\":0,\"y\":253},\"right_bottom\":{\"x\":257,\"y\":282}},\"word\":[{\"content\":\"All\"},{\"content\":\"the\"},{\"content\":\"things\"},{\"content\":\"will\"},{\"content\":\"be\"},{\"content\":\"better.\"}]}]}]},\"desc\":\"success\",\"sid\":\"wcr0038ecfd@gz15fa115a50b2460e00\"}'\n"
     ]
    }
   ],
   "source": [
    "# -*- coding: utf-8 -*-\n",
    "from urllib import parse\n",
    "import base64\n",
    "import hashlib\n",
    "import time\n",
    "import requests\n",
    "\n",
    "# OCR手写文字识别接口地址\n",
    "URL = \"http://webapi.xfyun.cn/v1/service/v1/ocr/handwriting\"\n",
    "# 应用APPID(必须为webapi类型应用,并开通手写文字识别服务,参考帖子如何创建一个webapi应用：http://bbs.xfyun.cn/forum.php?mod=viewthread&tid=36481)\n",
    "APPID = \"5df5101f\"\n",
    "# 接口密钥(webapi类型应用开通手写文字识别后，控制台--我的应用---手写文字识别---相应服务的apikey)\n",
    "API_KEY = \"a67c06b86a36caba20bc938f58590421\"\n",
    "def getHeader():\n",
    "    curTime = str(int(time.time()))\n",
    "    param = \"{\\\"language\\\":\\\"\"+language+\"\\\",\\\"location\\\":\\\"\"+location+\"\\\"}\"\n",
    "    paramBase64 = base64.b64encode(param.encode('utf-8'))\n",
    "\n",
    "    m2 = hashlib.md5()\n",
    "    str1 = API_KEY + curTime + str(paramBase64, 'utf-8')\n",
    "    m2.update(str1.encode('utf-8'))\n",
    "    checkSum = m2.hexdigest()\n",
    "\t# 组装http请求头\n",
    "    header = {\n",
    "        'X-CurTime': curTime,\n",
    "        'X-Param': paramBase64,\n",
    "        'X-Appid': APPID,\n",
    "        'X-CheckSum': checkSum,\n",
    "        'Content-Type': 'application/x-www-form-urlencoded; charset=utf-8',\n",
    "    }\n",
    "    return header\n",
    "def getBody(filepath):\n",
    "    with open(filepath, 'rb') as f:\n",
    "        imgfile = f.read()\n",
    "    data = {'image': str(base64.b64encode(imgfile), 'utf-8')}\n",
    "    return data\n",
    "# 语种设置\n",
    "language = \"en\"\n",
    "# 是否返回文本位置信息\n",
    "location = \"true\"\n",
    "# 图片上传接口地址\n",
    "picFilePath = \"ocr.jpg\"\n",
    "# headers=getHeader(language, location)\n",
    "r = requests.post(URL, headers=getHeader(), data=getBody(picFilePath))\n",
    "print(r.content)\n"
   ]
  },
  {
   "cell_type": "markdown",
   "metadata": {},
   "source": [
    "### 上文tsunami识别成了tsunami,英文仅有一处错误。"
   ]
  },
  {
   "cell_type": "code",
   "execution_count": 2,
   "metadata": {},
   "outputs": [
    {
     "name": "stdout",
     "output_type": "stream",
     "text": [
      "b'{\"code\":\"0\",\"data\":{\"block\":[{\"type\":\"text\",\"line\":[{\"confidence\":1,\"location\":{\"top_left\":{\"x\":20,\"y\":966},\"right_bottom\":{\"x\":340,\"y\":78}},\"word\":[{\"content\":\"T\"},{\"content\":\"F\"},{\"content\":\"S\"},{\"content\":\"1\"},{\"content\":\"0\"},{\"content\":\"5\"}]},{\"confidence\":1,\"location\":{\"top_left\":{\"x\":1331,\"y\":573},\"right_bottom\":{\"x\":2342,\"y\":852}},\"word\":[{\"content\":\"\\xe5\\x86\\x99\\xe5\\xad\\x97\\xe4\\xbd\\x93\\xe8\\xaf\\x86\\xe5\\x88\\xab\"}]},{\"confidence\":1,\"location\":{\"top_left\":{\"x\":913,\"y\":1379},\"right_bottom\":{\"x\":1190,\"y\":568}},\"word\":[{\"content\":\"\\xe6\\x88\\x91\"},{\"content\":\"4\"}]},{\"confidence\":1,\"location\":{\"top_left\":{\"x\":1423,\"y\":793},\"right_bottom\":{\"x\":1166,\"y\":1294}},\"word\":[{\"content\":\"2012\"}]},{\"confidence\":1,\"location\":{\"top_left\":{\"x\":1452,\"y\":978},\"right_bottom\":{\"x\":3406,\"y\":1180}},\"word\":[{\"content\":\"\\xe6\\x83\\xb3\\xe7\\x86\\xac\\xe5\\xa4\\x9c\\xe2\\x80\\x94\\xe2\\x80\\x94\\xe7\\xbd\\x91\\xe6\\x96\\xb0\\xe5\\xbf\\x85\\xe5\\xa4\\x87\"}]}]}]},\"desc\":\"success\",\"sid\":\"wcr00395aaf@gz15fa115ab836460e00\"}'\n"
     ]
    }
   ],
   "source": [
    "# -*- coding: utf-8 -*-\n",
    "from urllib import parse\n",
    "import base64\n",
    "import hashlib\n",
    "import time\n",
    "import requests\n",
    "\"\"\"\n",
    "  手写文字识别WebAPI接口调用示例接口文档(必看):https://doc.xfyun.cn/rest_api/%E6%89%8B%E5%86%99%E6%96%87%E5%AD%97%E8%AF%86%E5%88%AB.html\n",
    "  图片属性：jpg/png/bmp,最短边至少15px，最长边最大4096px,编码后大小不超过4M,识别文字语种：中英文\n",
    "  webapi OCR服务参考帖子(必看)：http://bbs.xfyun.cn/forum.php?mod=viewthread&tid=39111&highlight=OCR\n",
    "  (Very Important)创建完webapi应用添加服务之后一定要设置ip白名单，找到控制台--我的应用--设置ip白名单，如何设置参考：http://bbs.xfyun.cn/forum.php?mod=viewthread&tid=41891\n",
    "  错误码链接：https://www.xfyun.cn/document/error-code (code返回错误码时必看)\n",
    "  @author iflytek\n",
    "\"\"\"\n",
    "# OCR手写文字识别接口地址\n",
    "URL = \"http://webapi.xfyun.cn/v1/service/v1/ocr/handwriting\"\n",
    "# 应用APPID(必须为webapi类型应用,并开通手写文字识别服务,参考帖子如何创建一个webapi应用：http://bbs.xfyun.cn/forum.php?mod=viewthread&tid=36481)\n",
    "APPID = \"5defc1a9\"\n",
    "# 接口密钥(webapi类型应用开通手写文字识别后，控制台--我的应用---手写文字识别---相应服务的apikey)\n",
    "API_KEY = \"6476e472893ce91b1f3081d95540e5e3\"\n",
    "def getHeader():\n",
    "    curTime = str(int(time.time()))\n",
    "    param = \"{\\\"language\\\":\\\"\"+language+\"\\\",\\\"location\\\":\\\"\"+location+\"\\\"}\"\n",
    "    paramBase64 = base64.b64encode(param.encode('utf-8'))\n",
    "\n",
    "    m2 = hashlib.md5()\n",
    "    str1 = API_KEY + curTime + str(paramBase64, 'utf-8')\n",
    "    m2.update(str1.encode('utf-8'))\n",
    "    checkSum = m2.hexdigest()\n",
    "\t# 组装http请求头\n",
    "    header = {\n",
    "        'X-CurTime': curTime,\n",
    "        'X-Param': paramBase64,\n",
    "        'X-Appid': APPID,\n",
    "        'X-CheckSum': checkSum,\n",
    "        'Content-Type': 'application/x-www-form-urlencoded; charset=utf-8',\n",
    "    }\n",
    "    return header\n",
    "def getBody(filepath):\n",
    "    with open(filepath, 'rb') as f:\n",
    "        imgfile = f.read()\n",
    "    data = {'image': str(base64.b64encode(imgfile), 'utf-8')}\n",
    "    return data\n",
    "# 语种设置\n",
    "language = \"en\"\n",
    "# 是否返回文本位置信息\n",
    "location = \"true\"\n",
    "# 图片上传接口地址\n",
    "picFilePath = r\"ocr1.jpg\"\n",
    "# headers=getHeader(language, location)\n",
    "r = requests.post(URL, headers=getHeader(), data=getBody(picFilePath))\n",
    "print(r.content)"
   ]
  },
  {
   "cell_type": "code",
   "execution_count": null,
   "metadata": {},
   "outputs": [],
   "source": []
  }
 ],
 "metadata": {
  "kernelspec": {
   "display_name": "Python 3",
   "language": "python",
   "name": "python3"
  },
  "language_info": {
   "codemirror_mode": {
    "name": "ipython",
    "version": 3
   },
   "file_extension": ".py",
   "mimetype": "text/x-python",
   "name": "python",
   "nbconvert_exporter": "python",
   "pygments_lexer": "ipython3",
   "version": "3.7.4"
  }
 },
 "nbformat": 4,
 "nbformat_minor": 2
}
